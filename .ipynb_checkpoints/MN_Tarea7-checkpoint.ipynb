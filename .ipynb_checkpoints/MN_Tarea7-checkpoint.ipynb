{
 "cells": [
  {
   "cell_type": "raw",
   "id": "599d337d-1390-4593-8aae-7cefa7973927",
   "metadata": {},
   "source": [
    "---\n",
    "title: \"Interpolación con Splines Cúbicos\"\n",
    "author: \"Mateo Cumbal\"\n",
    "date: \"Noviembre 27, 2024\"\n",
    "lang: es\n",
    "format:\n",
    "  pdf:\n",
    "        number-sections: true\n",
    "        paginate: true\n",
    "        toc: true\n",
    "        links-color: blue\n",
    "        toc-title: \"Tabla de Contenidos\"  \n",
    "        tables: true\n",
    "        table-width: full\n",
    "        images-centered: true\n",
    "        highlight-style: tango\n",
    "execute:\n",
    "  echo: true\n",
    "  error: false\n",
    "  warning: false\n",
    "code-fold: true\n",
    "jupyter: python3\n",
    "---"
   ]
  },
  {
   "cell_type": "markdown",
   "id": "91b57e78-5ce6-4870-963e-730b1fd40443",
   "metadata": {},
   "source": [
    "# EJERCICIO 3"
   ]
  },
  {
   "cell_type": "markdown",
   "id": "d9fa42b5-6e6f-45ac-8a5f-a8a86b0cd98a",
   "metadata": {},
   "source": [
    "**Diríjase al pseudocódigo del spline cúbico con frontera natural provisto en clase, en \r\n",
    "base a ese pseudocódigo complete la siguiente función** "
   ]
  },
  {
   "cell_type": "code",
   "execution_count": 11,
   "id": "bc4efda9-cb6d-435e-9923-f21faeb6cafe",
   "metadata": {},
   "outputs": [],
   "source": [
    "import sympy as sym\n",
    "from IPython.display import display\n",
    "\n",
    "def cubic_spline(xs: list[float], ys: list[float]) -> list[sym.Symbol]:\n",
    "    points = sorted(zip(xs, ys), key=lambda x: x[0])  # sort points by x\n",
    "\n",
    "    xs = [x for x, _ in points]\n",
    "    ys = [y for _, y in points]\n",
    "\n",
    "    n = len(points) - 1  # number of splines\n",
    "\n",
    "    h = [xs[i + 1] - xs[i] for i in range(n)]  # distances between  contiguous xs\n",
    "\n",
    "    # alpha = # completar\n",
    "    for i in range(1, n):\n",
    "        alpha[i] = 3 / h[i] * (ys[i + 1] - ys[i]) - 3 / h[i - 1] * (ys[i] - ys[i - 1])\n",
    "\n",
    "    l = [1]\n",
    "    u = [0]\n",
    "    z = [0]\n",
    "\n",
    "    for i in range(1, n):\n",
    "        l += [2 * (xs[i + 1] - xs[i - 1]) - h[i - 1] * u[i - 1]]\n",
    "        u += [h[i] / l[i]]\n",
    "        z  # = completar\n",
    "\n",
    "    l.append(1)\n",
    "    z.append(0)\n",
    "    c = [0] * (n + 1)\n",
    "\n",
    "    x = sym.Symbol(\"x\")\n",
    "    splines = []\n",
    "    for j in range(n - 1, -1, -1):\n",
    "        c[j] = z[j] - u[j] * c[j + 1]\n",
    "        b = (ys[j + 1] - ys[j]) / h[j] - h[j] * (c[j + 1] + 2 * c[j]) / 3\n",
    "        d = (c[j + 1] - c[j]) / (3 * h[j])\n",
    "        a  # = completar\n",
    "        print(j, a, b, c[j], d)\n",
    "        S  # = completar\n",
    "\n",
    "        splines.append(S)\n",
    "    splines.reverse()\n",
    "    return splines"
   ]
  },
  {
   "cell_type": "markdown",
   "id": "811986d8-4a71-4439-99f0-9fd3cd48e759",
   "metadata": {},
   "source": [
    "Las partes que necesitaron completarse fueron las siguientes:\n",
    "\n",
    "**1. Calculo de coeficientes *alpha***"
   ]
  },
  {
   "cell_type": "code",
   "execution_count": null,
   "id": "868b4bd0-b44c-4894-a9fb-d1c0d5ecebd0",
   "metadata": {},
   "outputs": [],
   "source": [
    "alpha = [0] * (n) ''' <-- '''\n",
    "for i in range(1, n):\n",
    "    alpha[i] = (3 / h[i] * (ys[i + 1] - ys[i]) - 3 / h[i - 1] * (ys[i] - ys[i - 1]))"
   ]
  },
  {
   "cell_type": "markdown",
   "id": "d6992a10-f90c-4884-828b-d880adbe00ad",
   "metadata": {},
   "source": [
    "**2. Ecuación tridiagonal para *l*, *u* y *z***"
   ]
  },
  {
   "cell_type": "code",
   "execution_count": null,
   "id": "be543e4c-912b-420a-b818-0e3e9d8078e1",
   "metadata": {},
   "outputs": [],
   "source": [
    "for i in range(1, n):\n",
    "    l[i] = 2 * (xs[i + 1] - xs[i - 1]) - h[i - 1] * u[i - 1]\n",
    "    u[i] = h[i] / l[i]\n",
    "    z[i] = (alpha[i] - h[i - 1] * z[i - 1]) / l[i] ''' <-- '''"
   ]
  },
  {
   "cell_type": "markdown",
   "id": "bcd58576-55ab-4bba-b5d8-e8f892a18b46",
   "metadata": {},
   "source": [
    "**3. Cálculo de los coeficientes *b*, *c* y *d***"
   ]
  },
  {
   "cell_type": "code",
   "execution_count": null,
   "id": "bff1ef2e-eb26-486b-b463-67d90ec57efb",
   "metadata": {},
   "outputs": [],
   "source": [
    "for j in range(n - 1, -1, -1):\r\n",
    "    c[j] = z[j] - u[j] * c[j + 1]\r\n",
    "    b[j] = (ys[j + 1] - ys[j]) / h[j] - h[j] * (c[j + 1] + 2 * c[j]) / 3\r\n",
    "    d[j] = (c[j + 1] - c[j]) / (3 * h[j])\r\n",
    "    a[j] = y ''' <-- ''[j]\r\n"
   ]
  },
  {
   "cell_type": "markdown",
   "id": "90a84539-8d23-445d-845d-e7b1fd984911",
   "metadata": {},
   "source": [
    "**4. Definición del spline cúbico *S***"
   ]
  },
  {
   "cell_type": "code",
   "execution_count": null,
   "id": "cf91240e-9aff-494f-ba81-ceddf3eef5da",
   "metadata": {},
   "outputs": [],
   "source": [
    "S = (\n",
    "    a[j]\n",
    "    + b[j] * (x - xs[j])\n",
    "    + c[j] * (x - xs[j]) ** 2\n",
    "    + d[j] * (x - xs[j]) ** 3\n",
    ")"
   ]
  },
  {
   "cell_type": "markdown",
   "id": "e7c0b54b-1985-41db-bf01-d0eca6bd24c4",
   "metadata": {},
   "source": [
    "## Implementación Completa"
   ]
  },
  {
   "cell_type": "markdown",
   "id": "171ae396-5e60-4b20-a7ce-ca8b7bef662a",
   "metadata": {},
   "source": [
    "Cada par de puntos se interpola mediante un polinomio cúbico $S_j$ de la forma:\n",
    "\n",
    "$$S_j(x) = a_j + b_j(x - x_j) + c_j(x - x_j)^2 + d_j(x - x_j)^3$$\n",
    "\n",
    "Los valores $x_s$ deben ser diferentes, pero no es necesario que estén ordenados ni que estén equiespaciados.\n",
    "\n",
    "**Parámetros**\n",
    "\n",
    "- **$x_s, y_s$:** Puntos a interpolar.\n",
    "\n",
    "**Retorno**\n",
    "\n",
    "- Una lista de expresiones simbólicas que representan la interpolación cúbica spline."
   ]
  },
  {
   "cell_type": "code",
   "execution_count": 63,
   "id": "a139da79-b2bb-4803-8d4e-2da81bf26865",
   "metadata": {},
   "outputs": [],
   "source": [
    "import sympy as sym\n",
    "from IPython.display import display\n",
    "\n",
    "def cubic_spline(xs: list[float], ys: list[float]) -> list[sym.Symbol]:\n",
    "    points = sorted(zip(xs, ys), key=lambda x: x[0])  # Sort points by x\n",
    "    xs = [x for x, _ in points]\n",
    "    ys = [y for _, y in points]\n",
    "\n",
    "    n = len(points) - 1 \n",
    "    h = [xs[i + 1] - xs[i] for i in range(n)] \n",
    "\n",
    "    alpha = [0] * (n)\n",
    "    for i in range(1, n):\n",
    "        alpha[i] = (3 / h[i] * (ys[i + 1] - ys[i]) - 3 / h[i - 1] * (ys[i] - ys[i - 1]))\n",
    "\n",
    "    l = [1] + [0] * n\n",
    "    u = [0] * n\n",
    "    z = [0] * (n + 1)\n",
    "\n",
    "    for i in range(1, n):\n",
    "        l[i] = 2 * (xs[i + 1] - xs[i - 1]) - h[i - 1] * u[i - 1]\n",
    "        u[i] = h[i] / l[i]\n",
    "        z[i] = (alpha[i] - h[i - 1] * z[i - 1]) / l[i]\n",
    "\n",
    "    l[n] = 1\n",
    "    z[n] = 0\n",
    "\n",
    "    c = [0] * (n + 1)\n",
    "    b = [0] * n\n",
    "    d = [0] * n\n",
    "    a = [ys[i] for i in range(n)]\n",
    "\n",
    "    x = sym.Symbol(\"x\")\n",
    "    splines = []\n",
    "\n",
    "    for j in range(n - 1, -1, -1):\n",
    "        c[j] = z[j] - u[j] * c[j + 1]\n",
    "        b[j] = (ys[j + 1] - ys[j]) / h[j] - h[j] * (c[j + 1] + 2 * c[j]) / 3\n",
    "        d[j] = (c[j + 1] - c[j]) / (3 * h[j])\n",
    "        a[j] = ys[j]\n",
    "\n",
    "        S = (\n",
    "            a[j]\n",
    "            + b[j] * (x - xs[j])\n",
    "            + c[j] * (x - xs[j]) ** 2\n",
    "            + d[j] * (x - xs[j]) ** 3\n",
    "        )\n",
    "        splines.append(S)\n",
    "\n",
    "    splines.reverse()\n",
    "    return splines"
   ]
  },
  {
   "cell_type": "markdown",
   "id": "9083386f-87d6-4a18-93a3-0f678a51d478",
   "metadata": {},
   "source": [
    "## Explicación del Código"
   ]
  },
  {
   "cell_type": "markdown",
   "id": "ed237c65-9f40-4c77-b418-c7d8a6328528",
   "metadata": {},
   "source": [
    "**1. Ordenamiento de puntos**\n",
    "\n",
    "Se asegura que los puntos (xs, ys) estén ordenados por x. Esto es necesario porque el método depende de que los puntos estén en un orden lógico para calcular las diferencias entre ellos.\n",
    "\n",
    "**2. Cálculo de las distancias entre puntos (h)**\n",
    "\n",
    "Calcula las diferencias entre los valores consecutivos de x. Estas distancias (h) son fundamentales para determinar la forma del sistema tridiagonal.\n",
    "\n",
    "**3. Construcción de los coeficientes *alpha***\n",
    "\n",
    "*alpha* se utiliza para calcular los coeficientes de los polinomios cúbicos. Representa el cambio de pendiente entre puntos consecutivos.\n",
    "\n",
    "**4. Resolución del sistema tridiagonal**\n",
    "\n",
    "Aquí se resuelve el sistema tridiagonal, que garantiza que las derivadas primeras y segundas sean continuas entre los splines. Siendo l, u, y z son coeficientes intermedios para la solución del sistema.\n",
    "\n",
    "**5. Cálculo de los coeficientes a, b, c, d**\n",
    "\n",
    "Calcula los coeficientes de los polinomios cúbicos:\n",
    "\n",
    "- a[j]: valor en el punto de inicio del intervalo.\n",
    "\n",
    "- b[j]: pendiente del spline en el intervalo.\n",
    "\n",
    "- c[j], d[j]: coeficientes cuadrático y cúbico respectivamente.\n",
    "\n",
    "**6. Definición del spline cúbico**\n",
    "\n",
    "Se forma cada spline cúbico $S_j$ como un polinomio simbólico utilizando los coeficientes calculados. Estos polinomios se almacenan en la lista *splines*.\n",
    "\n",
    "**7. Retorno de los splines**\n",
    "\n",
    "Los splines se almacenan en orden inverso durante la iteración, así que se invierten antes de devolverlos. Se devuelve una lista de polinomios simbólicos que representan la interpolación cúbica."
   ]
  },
  {
   "cell_type": "markdown",
   "id": "cd080fc2-1dd8-4cf6-b1a2-035dad33145f",
   "metadata": {},
   "source": [
    "# EJERCICIO 4"
   ]
  },
  {
   "cell_type": "markdown",
   "id": "3458afef-42d8-47c2-9b95-87eed11a1860",
   "metadata": {},
   "source": [
    "**Usando la función anterior, encuentre el spline cúbico para:**\n",
    "\n",
    "$xs = [1, 2, 3]$\n",
    "\n",
    "$ys = [2, 3, 5]$"
   ]
  },
  {
   "cell_type": "code",
   "execution_count": 75,
   "id": "9e056264-988b-42f9-8102-e95ccbff23f0",
   "metadata": {},
   "outputs": [
    {
     "name": "stdout",
     "output_type": "stream",
     "text": [
      "Splines:\n",
      "S0:\n"
     ]
    },
    {
     "data": {
      "text/latex": [
       "$\\displaystyle 0.75 x + 0.25 \\left(x - 1\\right)^{3} + 1.25$"
      ],
      "text/plain": [
       "0.75*x + 0.25*(x - 1)**3 + 1.25"
      ]
     },
     "metadata": {},
     "output_type": "display_data"
    },
    {
     "name": "stdout",
     "output_type": "stream",
     "text": [
      "S1:\n"
     ]
    },
    {
     "data": {
      "text/latex": [
       "$\\displaystyle 1.5 x - 0.25 \\left(x - 2\\right)^{3} + 0.75 \\left(x - 2\\right)^{2}$"
      ],
      "text/plain": [
       "1.5*x - 0.25*(x - 2)**3 + 0.75*(x - 2)**2"
      ]
     },
     "metadata": {},
     "output_type": "display_data"
    },
    {
     "name": "stdout",
     "output_type": "stream",
     "text": [
      "\n",
      "Splines expandidos:\n",
      "S0:\n"
     ]
    },
    {
     "data": {
      "text/latex": [
       "$\\displaystyle 0.25 x^{3} - 0.75 x^{2} + 1.5 x + 1.0$"
      ],
      "text/plain": [
       "0.25*x**3 - 0.75*x**2 + 1.5*x + 1.0"
      ]
     },
     "metadata": {},
     "output_type": "display_data"
    },
    {
     "name": "stdout",
     "output_type": "stream",
     "text": [
      "S1:\n"
     ]
    },
    {
     "data": {
      "text/latex": [
       "$\\displaystyle - 0.25 x^{3} + 2.25 x^{2} - 4.5 x + 5.0$"
      ],
      "text/plain": [
       "-0.25*x**3 + 2.25*x**2 - 4.5*x + 5.0"
      ]
     },
     "metadata": {},
     "output_type": "display_data"
    }
   ],
   "source": [
    "xs = [1, 2, 3]\n",
    "ys = [2, 3, 5]\n",
    "\n",
    "splines = cubic_spline(xs=xs, ys=ys)\n",
    "\n",
    "print('Splines:')\n",
    "for i, s in enumerate(splines):\n",
    "    print(f'S{i}:')\n",
    "    display(s)\n",
    "\n",
    "print('\\nSplines expandidos:')\n",
    "for i, s in enumerate(splines):\n",
    "    print(f\"S{i}:\")\n",
    "    display(s.expand())"
   ]
  },
  {
   "cell_type": "code",
   "execution_count": 91,
   "id": "321db95c-9613-48ac-a45d-946a9af7a42b",
   "metadata": {},
   "outputs": [
    {
     "data": {
      "image/png": "[encoded data removed]",
      "text/plain": [
       "<Figure size 1000x600 with 1 Axes>"
      ]
     },
     "metadata": {},
     "output_type": "display_data"
    }
   ],
   "source": [
    "import numpy as np\n",
    "import matplotlib.pyplot as plt\n",
    "\n",
    "x_vals = np.linspace(min(xs), max(xs), 500)\n",
    "plt.figure(figsize=(10, 6))\n",
    "plt.scatter(xs, ys, color=\"red\", label=\"Puntos dados\") \n",
    "\n",
    "for i, S in enumerate(splines):\n",
    "    S_func = sym.lambdify(sym.Symbol(\"x\"), S, modules=[\"numpy\"])\n",
    "    x_spline = x_vals[(x_vals >= xs[i]) & (x_vals <= xs[i + 1])]\n",
    "    plt.plot(x_spline, S_func(x_spline), label=f\"$S_{i}(x)$\")\n",
    "\n",
    "plt.title(\"Interpolación con Splines Cúbicos\")\n",
    "plt.xlabel(\"x\")\n",
    "plt.ylabel(\"f(x)\")\n",
    "plt.xlim(0, 4)\n",
    "plt.ylim(0, 6)\n",
    "plt.legend()\n",
    "plt.grid(True)\n",
    "plt.show()"
   ]
  }
 ],
 "metadata": {
  "kernelspec": {
   "display_name": "Python 3 (ipykernel)",
   "language": "python",
   "name": "python3"
  },
  "language_info": {
   "codemirror_mode": {
    "name": "ipython",
    "version": 3
   },
   "file_extension": ".py",
   "mimetype": "text/x-python",
   "name": "python",
   "nbconvert_exporter": "python",
   "pygments_lexer": "ipython3",
   "version": "3.12.4"
  }
 },
 "nbformat": 4,
 "nbformat_minor": 5
}
