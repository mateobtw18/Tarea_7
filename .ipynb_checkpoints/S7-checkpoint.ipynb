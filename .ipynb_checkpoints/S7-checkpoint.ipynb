{
 "cells": [
  {
   "cell_type": "code",
   "execution_count": 1,
   "id": "76419cdf-e7ae-448b-914f-c5f83e3fa054",
   "metadata": {},
   "outputs": [],
   "source": [
    "import sympy as sym\n",
    "from IPython.display import display\n",
    "\n",
    "\n",
    "# ###################################################################\n",
    "def cubic_spline(xs: list[float], ys: list[float]) -> list[sym.Symbol]:\n",
    "    points = sorted(zip(xs, ys), key=lambda x: x[0])  # sort points by x\n",
    "\n",
    "    xs = [x for x, _ in points]\n",
    "    ys = [y for _, y in points]\n",
    "\n",
    "    n = len(points) - 1  # number of splines\n",
    "\n",
    "    h = [xs[i + 1] - xs[i] for i in range(n)]  # distances between  contiguous xs\n",
    "\n",
    "    # alpha = # completar\n",
    "    for i in range(1, n):\n",
    "        alpha[i] = 3 / h[i] * (ys[i + 1] - ys[i]) - 3 / h[i - 1] * (ys[i] - ys[i - 1])\n",
    "\n",
    "    l = [1]\n",
    "    u = [0]\n",
    "    z = [0]\n",
    "\n",
    "    for i in range(1, n):\n",
    "        l += [2 * (xs[i + 1] - xs[i - 1]) - h[i - 1] * u[i - 1]]\n",
    "        u += [h[i] / l[i]]\n",
    "        z  # = completar\n",
    "\n",
    "    l.append(1)\n",
    "    z.append(0)\n",
    "    c = [0] * (n + 1)\n",
    "\n",
    "    x = sym.Symbol(\"x\")\n",
    "    splines = []\n",
    "    for j in range(n - 1, -1, -1):\n",
    "        c[j] = z[j] - u[j] * c[j + 1]\n",
    "        b = (ys[j + 1] - ys[j]) / h[j] - h[j] * (c[j + 1] + 2 * c[j]) / 3\n",
    "        d = (c[j + 1] - c[j]) / (3 * h[j])\n",
    "        a  # = completar\n",
    "        print(j, a, b, c[j], d)\n",
    "        S  # = completar\n",
    "\n",
    "        splines.append(S)\n",
    "    splines.reverse()\n",
    "    return splines"
   ]
  },
  {
   "cell_type": "code",
   "execution_count": 3,
   "id": "f748ee75-58d9-4989-9960-da3b8d934afe",
   "metadata": {},
   "outputs": [],
   "source": [
    "#### Sirve\n",
    "import sympy as sym\n",
    "from IPython.display import display\n",
    "\n",
    "# ###################################################################\n",
    "def cubic_spline(xs: list[float], ys: list[float]) -> list[sym.Symbol]:\n",
    "    \"\"\"\n",
    "    Cubic spline interpolation ``S``. Every two points are interpolated by a cubic polynomial\n",
    "    ``S_j`` of the form ``S_j(x) = a_j + b_j(x - x_j) + c_j(x - x_j)^2 + d_j(x - x_j)^3.``\n",
    "\n",
    "    xs must be different but not necessarily ordered nor equally spaced.\n",
    "\n",
    "    ## Parameters\n",
    "    - xs, ys: points to be interpolated\n",
    "\n",
    "    ## Return\n",
    "    - List of symbolic expressions for the cubic spline interpolation.\n",
    "    \"\"\"\n",
    "    points = sorted(zip(xs, ys), key=lambda x: x[0])  # Sort points by x\n",
    "    xs = [x for x, _ in points]\n",
    "    ys = [y for _, y in points]\n",
    "\n",
    "    n = len(points) - 1  # Number of splines\n",
    "    h = [xs[i + 1] - xs[i] for i in range(n)]  # Distances between contiguous xs\n",
    "\n",
    "    # Alpha coefficients\n",
    "    alpha = [0] * (n)\n",
    "    for i in range(1, n):\n",
    "        alpha[i] = (3 / h[i] * (ys[i + 1] - ys[i]) - 3 / h[i - 1] * (ys[i] - ys[i - 1]))\n",
    "\n",
    "    # Solving the tridiagonal system\n",
    "    l = [1] + [0] * n\n",
    "    u = [0] * n\n",
    "    z = [0] * (n + 1)\n",
    "\n",
    "    for i in range(1, n):\n",
    "        l[i] = 2 * (xs[i + 1] - xs[i - 1]) - h[i - 1] * u[i - 1]\n",
    "        u[i] = h[i] / l[i]\n",
    "        z[i] = (alpha[i] - h[i - 1] * z[i - 1]) / l[i]\n",
    "\n",
    "    l[n] = 1\n",
    "    z[n] = 0\n",
    "\n",
    "    # Coefficients for cubic splines\n",
    "    c = [0] * (n + 1)\n",
    "    b = [0] * n\n",
    "    d = [0] * n\n",
    "    a = [ys[i] for i in range(n)]\n",
    "\n",
    "    x = sym.Symbol(\"x\")\n",
    "    splines = []\n",
    "\n",
    "    for j in range(n - 1, -1, -1):\n",
    "        c[j] = z[j] - u[j] * c[j + 1]\n",
    "        b[j] = (ys[j + 1] - ys[j]) / h[j] - h[j] * (c[j + 1] + 2 * c[j]) / 3\n",
    "        d[j] = (c[j + 1] - c[j]) / (3 * h[j])\n",
    "        a[j] = ys[j]\n",
    "\n",
    "        # Define the spline polynomial\n",
    "        S = (\n",
    "            a[j]\n",
    "            + b[j] * (x - xs[j])\n",
    "            + c[j] * (x - xs[j]) ** 2\n",
    "            + d[j] * (x - xs[j]) ** 3\n",
    "        )\n",
    "        splines.append(S)\n",
    "\n",
    "    splines.reverse()\n",
    "    return splines"
   ]
  },
  {
   "cell_type": "code",
   "execution_count": 27,
   "id": "615b8913-25fb-4df7-bd9a-2abaa7762539",
   "metadata": {},
   "outputs": [
    {
     "name": "stdout",
     "output_type": "stream",
     "text": [
      "Splines:\n",
      "S0:\n"
     ]
    },
    {
     "data": {
      "text/latex": [
       "$\\displaystyle 1.5 x^{3} - 0.5 x - 5$"
      ],
      "text/plain": [
       "1.5*x**3 - 0.5*x - 5"
      ]
     },
     "metadata": {},
     "output_type": "display_data"
    },
    {
     "name": "stdout",
     "output_type": "stream",
     "text": [
      "S1:\n"
     ]
    },
    {
     "data": {
      "text/latex": [
       "$\\displaystyle 4.0 x - 1.5 \\left(x - 1\\right)^{3} + 4.5 \\left(x - 1\\right)^{2} - 8.0$"
      ],
      "text/plain": [
       "4.0*x - 1.5*(x - 1)**3 + 4.5*(x - 1)**2 - 8.0"
      ]
     },
     "metadata": {},
     "output_type": "display_data"
    },
    {
     "name": "stdout",
     "output_type": "stream",
     "text": [
      "\n",
      "Splines expandidos:\n",
      "S0:\n"
     ]
    },
    {
     "data": {
      "text/latex": [
       "$\\displaystyle 1.5 x^{3} - 0.5 x - 5$"
      ],
      "text/plain": [
       "1.5*x**3 - 0.5*x - 5"
      ]
     },
     "metadata": {},
     "output_type": "display_data"
    },
    {
     "name": "stdout",
     "output_type": "stream",
     "text": [
      "S1:\n"
     ]
    },
    {
     "data": {
      "text/latex": [
       "$\\displaystyle - 1.5 x^{3} + 9.0 x^{2} - 9.5 x - 2.0$"
      ],
      "text/plain": [
       "-1.5*x**3 + 9.0*x**2 - 9.5*x - 2.0"
      ]
     },
     "metadata": {},
     "output_type": "display_data"
    }
   ],
   "source": [
    "# Test the function with provided inputs\n",
    "xs = [0, 1, 2]\n",
    "ys = [-5, -4, 3]\n",
    "\n",
    "splines = cubic_spline(xs=xs, ys=ys)\n",
    "\n",
    "# Mostrar las splines con sus nombres\n",
    "print('Splines:')\n",
    "for i, s in enumerate(splines):\n",
    "    print(f'S{i}:')\n",
    "    display(s)\n",
    "\n",
    "print('\\nSplines expandidos:')\n",
    "for i, s in enumerate(splines):\n",
    "    print(f\"S{i}:\")\n",
    "    display(s.expand()) # Display expanded splines"
   ]
  },
  {
   "cell_type": "code",
   "execution_count": 1,
   "id": "04172c26-2ef6-458a-9c88-a0f553d6adb7",
   "metadata": {},
   "outputs": [
    {
     "ename": "NameError",
     "evalue": "name 'cubic_spline' is not defined",
     "output_type": "error",
     "traceback": [
      "\u001b[1;31m---------------------------------------------------------------------------\u001b[0m",
      "\u001b[1;31mNameError\u001b[0m                                 Traceback (most recent call last)",
      "Cell \u001b[1;32mIn[1], line 5\u001b[0m\n\u001b[0;32m      2\u001b[0m xs \u001b[38;5;241m=\u001b[39m [\u001b[38;5;241m0\u001b[39m, \u001b[38;5;241m1\u001b[39m, \u001b[38;5;241m2\u001b[39m]\n\u001b[0;32m      3\u001b[0m ys \u001b[38;5;241m=\u001b[39m [\u001b[38;5;241m1\u001b[39m, \u001b[38;5;241m5\u001b[39m, \u001b[38;5;241m3\u001b[39m]\n\u001b[1;32m----> 5\u001b[0m splines \u001b[38;5;241m=\u001b[39m cubic_spline(xs\u001b[38;5;241m=\u001b[39mxs, ys\u001b[38;5;241m=\u001b[39mys)\n\u001b[0;32m      6\u001b[0m _ \u001b[38;5;241m=\u001b[39m [display(s) \u001b[38;5;28;01mfor\u001b[39;00m s \u001b[38;5;129;01min\u001b[39;00m splines]  \u001b[38;5;66;03m# Display raw splines\u001b[39;00m\n\u001b[0;32m      7\u001b[0m \u001b[38;5;28mprint\u001b[39m(\u001b[38;5;124m\"\u001b[39m\u001b[38;5;124m______\u001b[39m\u001b[38;5;124m\"\u001b[39m)\n",
      "\u001b[1;31mNameError\u001b[0m: name 'cubic_spline' is not defined"
     ]
    }
   ],
   "source": [
    "# Test the function with provided inputs\n",
    "xs = [0, 1, 2]\n",
    "ys = [1, 5, 3]\n",
    "\n",
    "splines = cubic_spline(xs=xs, ys=ys)\n",
    "_ = [display(s) for s in splines]  # Display raw splines\n",
    "print(\"______\")\n",
    "_ = [display(s.expand()) for s in splines]  # Display expanded splines"
   ]
  },
  {
   "cell_type": "code",
   "execution_count": 25,
   "id": "3d3e1e04-24fd-4f09-af59-019763c40875",
   "metadata": {},
   "outputs": [
    {
     "name": "stdout",
     "output_type": "stream",
     "text": [
      "Polinomios de los splines:\n",
      "Spline 0:\n"
     ]
    },
    {
     "data": {
      "text/latex": [
       "$\\displaystyle 1.0 x + 1$"
      ],
      "text/plain": [
       "1.0*x + 1"
      ]
     },
     "metadata": {},
     "output_type": "display_data"
    },
    {
     "name": "stdout",
     "output_type": "stream",
     "text": [
      "Spline 1:\n"
     ]
    },
    {
     "data": {
      "text/latex": [
       "$\\displaystyle 8.5 - 3.5 x$"
      ],
      "text/plain": [
       "8.5 - 3.5*x"
      ]
     },
     "metadata": {},
     "output_type": "display_data"
    },
    {
     "name": "stdout",
     "output_type": "stream",
     "text": [
      "\n",
      "Coeficientes (a, b, c, d) de los splines:\n",
      "Spline 0: a = 1, b = 5.5, c = 0.0, d = -1.5\n",
      "Spline 1: a = 5, b = 1.0, c = -4.5, d = 1.5\n"
     ]
    }
   ],
   "source": [
    "import sympy as sym\n",
    "from IPython.display import display\n",
    "\n",
    "def cubic_spline(xs: list[float], ys: list[float]) -> list[sym.Symbol]:\n",
    "    \"\"\"\n",
    "    Cubic spline interpolation `S`. Every two points are interpolated by a cubic polynomial\n",
    "    `S_j` of the form `S_j(x) = a_j + b_j(x - x_j) + c_j(x - x_j)^2 + d_j(x - x_j)^3.`\n",
    "\n",
    "    xs must be different but not necessarily ordered nor equally spaced.\n",
    "\n",
    "    ## Parameters\n",
    "    - xs, ys: points to be interpolated\n",
    "\n",
    "    ## Return\n",
    "    - List of symbolic expressions for the cubic spline interpolation.\n",
    "    \"\"\"\n",
    "\n",
    "    # Ordenar los puntos según xs\n",
    "    points = sorted(zip(xs, ys), key=lambda x: x[0])\n",
    "    xs = [x for x, _ in points]\n",
    "    ys = [y for _, y in points]\n",
    "\n",
    "    n = len(points) - 1  # número de splines\n",
    "    h = [xs[i + 1] - xs[i] for i in range(n)]  # distancias entre los xs contiguos\n",
    "\n",
    "    # Calcular alpha\n",
    "    alpha = [0] * (n + 1)\n",
    "    for i in range(1, n):\n",
    "        alpha[i] = (3 / h[i]) * (ys[i + 1] - ys[i]) - (3 / h[i - 1]) * (ys[i] - ys[i - 1])\n",
    "\n",
    "    # Inicialización de las listas l, u, z\n",
    "    l = [1] + [0] * n\n",
    "    u = [0] * n\n",
    "    z = [0] * (n + 1)\n",
    "\n",
    "    # Resolver el sistema tridiagonal\n",
    "    for i in range(1, n):\n",
    "        l[i] = 2 * (xs[i + 1] - xs[i - 1]) - h[i - 1] * u[i - 1]\n",
    "        u[i] = h[i] / l[i]\n",
    "        z[i] = (alpha[i] - h[i - 1] * z[i - 1]) / l[i]\n",
    "\n",
    "    l[n] = 1\n",
    "    z[n] = 0\n",
    "    c = [0] * (n + 1)\n",
    "\n",
    "    # Cálculo de los coeficientes c, b, d y a\n",
    "    splines = []\n",
    "    x = sym.Symbol(\"x\")\n",
    "    coefficients = []  # Para almacenar a, b, c, d de cada spline\n",
    "\n",
    "    for j in range(n - 1, -1, -1):\n",
    "        c[j] = z[j] - u[j] * c[j + 1]\n",
    "        b = (ys[j + 1] - ys[j]) / h[j] - h[j] * (c[j + 1] + 2 * c[j]) / 3\n",
    "        d = (c[j + 1] - c[j]) / (3 * h[j])\n",
    "        a = ys[j]\n",
    "\n",
    "        # Guardar los coeficientes en una lista\n",
    "        coefficients.append((a, b, c[j], d))\n",
    "\n",
    "        # Crear el polinomio para el spline j\n",
    "        S = a + b * (x - xs[j]) + c[j] * (x - xs[j])*2 + d * (x - xs[j])*3\n",
    "        splines.append(S)\n",
    "\n",
    "    splines.reverse()  # invertir la lista para tener los splines en orden\n",
    "    coefficients.reverse()  # invertir los coeficientes también\n",
    "    return splines, coefficients\n",
    "\n",
    "# Ejemplo de uso\n",
    "xs = [0, 1, 2]\n",
    "ys = [1, 5, 3]\n",
    "\n",
    "splines, coefficients = cubic_spline(xs=xs, ys=ys)\n",
    "\n",
    "# Mostrar los polinomios\n",
    "print(\"Polinomios de los splines:\")\n",
    "for i, spline in enumerate(splines):\n",
    "    print(f\"Spline {i}:\")\n",
    "    display(spline.expand())\n",
    "\n",
    "# Mostrar los coeficientes\n",
    "print(\"\\nCoeficientes (a, b, c, d) de los splines:\")\n",
    "for i, (a, b, c, d) in enumerate(coefficients):\n",
    "    print(f\"Spline {i}: a = {a}, b = {b}, c = {c}, d = {d}\")"
   ]
  }
 ],
 "metadata": {
  "kernelspec": {
   "display_name": "Python 3 (ipykernel)",
   "language": "python",
   "name": "python3"
  },
  "language_info": {
   "codemirror_mode": {
    "name": "ipython",
    "version": 3
   },
   "file_extension": ".py",
   "mimetype": "text/x-python",
   "name": "python",
   "nbconvert_exporter": "python",
   "pygments_lexer": "ipython3",
   "version": "3.12.4"
  }
 },
 "nbformat": 4,
 "nbformat_minor": 5
}
